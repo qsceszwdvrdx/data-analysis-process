{
  "nbformat": 4,
  "nbformat_minor": 0,
  "metadata": {
    "colab": {
      "provenance": []
    },
    "kernelspec": {
      "name": "python3",
      "display_name": "Python 3"
    },
    "language_info": {
      "name": "python"
    }
  },
  "cells": [
    {
      "cell_type": "markdown",
      "source": [
        "## open file"
      ],
      "metadata": {
        "id": "_1ydor0KALvX"
      }
    },
    {
      "cell_type": "markdown",
      "source": [
        "[kaggle data link](https://www.kaggle.com/competitions/spaceship-titanic)"
      ],
      "metadata": {
        "id": "L6-ZjCfuwEiv"
      }
    },
    {
      "cell_type": "code",
      "execution_count": 7,
      "metadata": {
        "id": "LGh1h7KUB0Hd"
      },
      "outputs": [],
      "source": [
        "import pandas as pd\n",
        "import warnings\n",
        "import os\n",
        "warnings.filterwarnings(\"ignore\")"
      ]
    },
    {
      "cell_type": "code",
      "source": [
        "from google.colab import drive\n",
        "drive.mount('/content/drive/')"
      ],
      "metadata": {
        "colab": {
          "base_uri": "https://localhost:8080/"
        },
        "id": "hxNmBlp2SeXk",
        "outputId": "98511307-ed5a-4a07-88ee-9c56cdc8c9e9"
      },
      "execution_count": 2,
      "outputs": [
        {
          "output_type": "stream",
          "name": "stdout",
          "text": [
            "Mounted at /content/drive/\n"
          ]
        }
      ]
    },
    {
      "cell_type": "code",
      "execution_count": 3,
      "metadata": {
        "id": "FB9G2JmlB0Hg"
      },
      "outputs": [],
      "source": [
        "folder_path = '/content/drive/MyDrive/'\n",
        "data_path = os.path.join(folder_path,'kaggle','spaceship-titanic','data')\n",
        "train_path = os.path.join(data_path,'finish_train.csv')\n",
        "test_path = os.path.join(data_path,'finish_test.csv')\n",
        "train = pd.read_csv(train_path)\n",
        "test = pd.read_csv(test_path)"
      ]
    },
    {
      "cell_type": "markdown",
      "source": [
        "## models"
      ],
      "metadata": {
        "id": "PS6IO4tw28LF"
      }
    },
    {
      "cell_type": "code",
      "source": [
        "from sklearn import svm, tree, linear_model, neighbors, naive_bayes, ensemble, discriminant_analysis, gaussian_process, model_selection\n",
        "from sklearn.metrics import classification_report, accuracy_score\n",
        "from sklearn.ensemble import RandomForestClassifier, VotingClassifier\n",
        "from sklearn.linear_model import LogisticRegressionCV\n",
        "from sklearn.model_selection import train_test_split, ShuffleSplit, cross_validate\n",
        "from sklearn.preprocessing import StandardScaler\n",
        "from sklearn.model_selection import ShuffleSplit\n",
        "from tqdm import tqdm\n",
        "import xgboost as xgb\n",
        "import lightgbm as lgb"
      ],
      "metadata": {
        "id": "fL8sICdVC8MI"
      },
      "execution_count": 4,
      "outputs": []
    },
    {
      "cell_type": "markdown",
      "metadata": {
        "id": "TErdoHIXB0Hn"
      },
      "source": [
        "## train model"
      ]
    },
    {
      "cell_type": "markdown",
      "source": [
        "train/test split   = 8 : 2"
      ],
      "metadata": {
        "id": "txY1xbh1TRYt"
      }
    },
    {
      "cell_type": "code",
      "source": [
        "X_train = train[train.columns.difference(['Transported'])].values\n",
        "y_train = train['Transported'].astype(int).values\n",
        "X_train, X_test, y_train, y_test = train_test_split(X_train, y_train, test_size=0.2)"
      ],
      "metadata": {
        "id": "LUoMLmvt_sFc"
      },
      "execution_count": 5,
      "outputs": []
    },
    {
      "cell_type": "code",
      "execution_count": null,
      "metadata": {
        "id": "ltPvBhuPB0Ho"
      },
      "outputs": [],
      "source": [
        "logit_model = linear_model.LogisticRegressionCV()\n",
        "sgd_model = linear_model.SGDClassifier()\n",
        "rf_model = RandomForestClassifier()\n",
        "xgb_model = xgb.XGBClassifier()\n",
        "lgbm_model = lgb.LGBMClassifier()\n",
        "\n",
        "logit_model.fit(X_train, y_train)\n",
        "sgd_model.fit(X_train, y_train)\n",
        "rf_model.fit(X_train, y_train)\n",
        "xgb_model.fit(X_train, y_train)\n",
        "lgbm_model.fit(X_train, y_train)\n",
        "\n",
        "y_pred = logit_model.predict(X_test)\n",
        "print(classification_report(y_test,y_pred))\n",
        "y_pred = sgd_model.predict(X_test)\n",
        "print(classification_report(y_test,y_pred))\n",
        "y_pred = rf_model.predict(X_test)\n",
        "print(classification_report(y_test,y_pred))\n",
        "y_pred = xgb_model.predict(X_test)\n",
        "print(classification_report(y_test,y_pred))\n",
        "y_pred = lgbm_model.predict(X_test)\n",
        "print(classification_report(y_test,y_pred))"
      ]
    },
    {
      "cell_type": "code",
      "source": [
        "logit_model = linear_model.LogisticRegressionCV()\n",
        "sgd_model = linear_model.SGDClassifier()\n",
        "rf_model = RandomForestClassifier()\n",
        "xgb_model = xgb.XGBClassifier()\n",
        "lgbm_model = lgb.LGBMClassifier()\n",
        "\n",
        "models_vote = VotingClassifier(\n",
        "        estimators=[('logit',logit_model),('sgd',sgd_model),('rf',rf_model),('xgb',xgb_model),('lgbm',lgbm_model)],\n",
        "        voting='hard')\n",
        "models_vote.fit(X_train, y_train)\n",
        "y_pred = models_vote.predict(X_test)\n",
        "print(classification_report(y_test,y_pred))\n",
        "\n",
        "models_vote = VotingClassifier(\n",
        "        estimators=[('logit',logit_model),('rf',rf_model),('xgb',xgb_model),('lgbm',lgbm_model)], # sgd 沒辦法算機率\n",
        "        voting='soft')\n",
        "models_vote.fit(X_train, y_train)\n",
        "y_pred = models_vote.predict(X_test)\n",
        "print(classification_report(y_test,y_pred))"
      ],
      "metadata": {
        "id": "ogsty2M_Nc1o"
      },
      "execution_count": null,
      "outputs": []
    },
    {
      "cell_type": "markdown",
      "source": [
        "## test model"
      ],
      "metadata": {
        "id": "LIemB6zizpxK"
      }
    },
    {
      "cell_type": "code",
      "source": [
        "X_train = train[train.columns.difference(['Transported'])].values\n",
        "y_train = train['Transported'].astype(int).values\n",
        "X_test = test[test.columns.difference(['Transported'])].values"
      ],
      "metadata": {
        "id": "d-56cWaRNTzh"
      },
      "execution_count": null,
      "outputs": []
    },
    {
      "cell_type": "code",
      "source": [
        "import os\n",
        "os.mkdir('model')"
      ],
      "metadata": {
        "id": "xWOhR_9_vWzp"
      },
      "execution_count": null,
      "outputs": []
    },
    {
      "cell_type": "code",
      "source": [
        "id = test['PassengerId']\n",
        "logit_model = linear_model.LogisticRegressionCV()\n",
        "logit_model.fit(X_train, y_train)\n",
        "y_pred = logit_model.predict(X_test)\n",
        "answer = pd.concat([id, pd.Series(y_pred, name='Transported')], axis=1)\n",
        "answer.replace({0: False, 1: True}, inplace=True)\n",
        "answer.to_csv('model/logit_model.csv', index=False)\n",
        "\n",
        "sgd_model = linear_model.SGDClassifier()\n",
        "sgd_model.fit(X_train, y_train)\n",
        "y_pred = sgd_model.predict(X_test)\n",
        "answer = pd.concat([id, pd.Series(y_pred, name='Transported')], axis=1)\n",
        "answer.replace({0: False, 1: True}, inplace=True)\n",
        "answer.to_csv('model/sgd_model.csv', index=False)\n",
        "\n",
        "rf_model = RandomForestClassifier()\n",
        "rf_model.fit(X_train, y_train)\n",
        "y_pred = rf_model.predict(X_test)\n",
        "answer = pd.concat([id, pd.Series(y_pred, name='Transported')], axis=1)\n",
        "answer.replace({0: False, 1: True}, inplace=True)\n",
        "answer.to_csv('model/random_forest.csv', index=False)\n",
        "\n",
        "xgb_model = xgb.XGBClassifier()\n",
        "xgb_model.fit(X_train, y_train)\n",
        "y_pred = xgb_model.predict(X_test)\n",
        "answer = pd.concat([id, pd.Series(y_pred, name='Transported')], axis=1)\n",
        "answer.replace({0: False, 1: True}, inplace=True)\n",
        "answer.to_csv('model/xgb_model.csv', index=False)\n",
        "\n",
        "lgbm_model = lgb.LGBMClassifier()\n",
        "lgbm_model.fit(X_train, y_train)\n",
        "y_pred = lgbm_model.predict(X_test)\n",
        "answer = pd.concat([id, pd.Series(y_pred, name='Transported')], axis=1)\n",
        "answer.replace({0: False, 1: True}, inplace=True)\n",
        "answer.to_csv('model/lgbm_model.csv', index=False)"
      ],
      "metadata": {
        "id": "HzygOTpsNT2H"
      },
      "execution_count": null,
      "outputs": []
    },
    {
      "cell_type": "code",
      "execution_count": null,
      "metadata": {
        "id": "Cm4AvQG31QCL"
      },
      "outputs": [],
      "source": [
        "models_vote = VotingClassifier(\n",
        "        estimators=[('logit',logit_model),('sgd',sgd_model),('rf',rf_model),('xgb',xgb_model),('lgbm',lgbm_model)],\n",
        "        voting='hard')\n",
        "models_vote.fit(X_train, y_train)\n",
        "y_pred = models_vote.predict(X_test)\n",
        "answer = pd.concat([id, pd.Series(y_pred, name='Transported')], axis=1)\n",
        "answer.replace({0: False, 1: True}, inplace=True)\n",
        "answer.to_csv('model/models_hard_vote.csv', index=False)\n",
        "\n",
        "models_vote = VotingClassifier(\n",
        "        estimators=[('logit',logit_model),('rf',rf_model),('xgb',xgb_model),('lgbm',lgbm_model)], # sgd 沒辦法算機率\n",
        "        voting='soft')\n",
        "models_vote.fit(X_train, y_train)\n",
        "y_pred = models_vote.predict(X_test)\n",
        "answer = pd.concat([id, pd.Series(y_pred, name='Transported')], axis=1)\n",
        "answer.replace({0: False, 1: True}, inplace=True)\n",
        "answer.to_csv('model/models_soft_vote.csv', index=False)"
      ]
    },
    {
      "cell_type": "code",
      "source": [],
      "metadata": {
        "id": "mHnJOF1DPH8d"
      },
      "execution_count": null,
      "outputs": []
    }
  ]
}